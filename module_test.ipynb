{
 "cells": [
  {
   "cell_type": "code",
   "execution_count": 9,
   "id": "28fe37fc",
   "metadata": {},
   "outputs": [
    {
     "name": "stdout",
     "output_type": "stream",
     "text": [
      "The autoreload extension is already loaded. To reload it, use:\n",
      "  %reload_ext autoreload\n"
     ]
    }
   ],
   "source": [
    "%load_ext autoreload\n",
    "%autoreload 2\n",
    "from vq_tokenizer import *"
   ]
  },
  {
   "cell_type": "code",
   "execution_count": 10,
   "id": "05238879",
   "metadata": {},
   "outputs": [],
   "source": [
    "vq = Quantization_Block(codebook_size=256, code_dim=8)"
   ]
  },
  {
   "cell_type": "code",
   "execution_count": 11,
   "id": "5cd5d8ed",
   "metadata": {},
   "outputs": [
    {
     "data": {
      "text/plain": [
       "torch.Size([13])"
      ]
     },
     "execution_count": 11,
     "metadata": {},
     "output_type": "execute_result"
    }
   ],
   "source": [
    "test_vec = torch.randn((13, 8))\n",
    "out = vq.get_nearest_code_idx(test_vec)\n",
    "out.shape"
   ]
  },
  {
   "cell_type": "code",
   "execution_count": 13,
   "id": "d0a1cd77",
   "metadata": {},
   "outputs": [
    {
     "data": {
      "text/plain": [
       "tensor([[-0.2379, -0.9717, -1.1374, -1.1325,  2.4980, -0.7495, -3.0130, -0.3875],\n",
       "        [-0.7123,  2.0572, -2.2127, -2.4900, -0.6338,  0.2159,  0.0505,  0.7485],\n",
       "        [-0.8231, -1.9395,  0.7072,  1.8529, -0.0945,  1.2782,  0.7154, -3.0865],\n",
       "        [ 0.4349,  2.7011,  2.9676, -0.0964,  0.9981,  1.6512, -0.6936,  0.3670],\n",
       "        [ 0.2431, -0.0823, -0.5766,  0.8858,  1.3179,  0.0673, -0.7456,  3.8986],\n",
       "        [ 0.4349,  2.7011,  2.9676, -0.0964,  0.9981,  1.6512, -0.6936,  0.3670],\n",
       "        [ 0.4349,  2.7011,  2.9676, -0.0964,  0.9981,  1.6512, -0.6936,  0.3670],\n",
       "        [-1.8743, -0.2203,  0.3837,  2.4448, -0.8257, -0.3719, -1.6600,  0.3603],\n",
       "        [-0.8231, -1.9395,  0.7072,  1.8529, -0.0945,  1.2782,  0.7154, -3.0865],\n",
       "        [ 1.2652, -3.7031, -0.2472,  0.5818, -0.2993,  0.2610, -2.4969, -1.4840],\n",
       "        [ 1.2652, -3.7031, -0.2472,  0.5818, -0.2993,  0.2610, -2.4969, -1.4840],\n",
       "        [ 0.2431, -0.0823, -0.5766,  0.8858,  1.3179,  0.0673, -0.7456,  3.8986],\n",
       "        [ 0.4349,  2.7011,  2.9676, -0.0964,  0.9981,  1.6512, -0.6936,  0.3670]],\n",
       "       grad_fn=<IndexBackward0>)"
      ]
     },
     "execution_count": 13,
     "metadata": {},
     "output_type": "execute_result"
    }
   ],
   "source": [
    "vq.codebook[out]"
   ]
  },
  {
   "cell_type": "code",
   "execution_count": 15,
   "id": "7d0b15bd",
   "metadata": {},
   "outputs": [
    {
     "data": {
      "text/plain": [
       "(Parameter containing:\n",
       " tensor([[-1.5147, -1.3268,  0.0606,  ..., -0.3674, -0.0075, -3.0897],\n",
       "         [ 0.5129, -0.8039, -0.2617,  ...,  1.9664, -0.8949, -2.2751],\n",
       "         [-0.2064,  0.6959, -0.1617,  ...,  1.3669, -0.3670, -0.3275],\n",
       "         ...,\n",
       "         [-0.4542, -0.1669,  0.9936,  ..., -2.4939,  1.4477, -0.5214],\n",
       "         [-0.5938, -0.0698, -0.0035,  ..., -0.4772, -0.7064,  1.3052],\n",
       "         [ 1.7946,  0.3751, -1.0604,  ...,  0.7594,  1.2288, -1.7812]],\n",
       "        requires_grad=True),\n",
       " tensor([124,  25, 216,  16,  49,  16,  16, 108, 216,  28,  28,  49,  16]))"
      ]
     },
     "execution_count": 15,
     "metadata": {},
     "output_type": "execute_result"
    }
   ],
   "source": [
    "vq.codebook, out"
   ]
  }
 ],
 "metadata": {
  "kernelspec": {
   "display_name": "venv_s4",
   "language": "python",
   "name": "python3"
  },
  "language_info": {
   "codemirror_mode": {
    "name": "ipython",
    "version": 3
   },
   "file_extension": ".py",
   "mimetype": "text/x-python",
   "name": "python",
   "nbconvert_exporter": "python",
   "pygments_lexer": "ipython3",
   "version": "3.10.0"
  }
 },
 "nbformat": 4,
 "nbformat_minor": 5
}
